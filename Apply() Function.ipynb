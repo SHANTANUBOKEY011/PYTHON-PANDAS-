{
 "cells": [
  {
   "cell_type": "code",
   "execution_count": 3,
   "id": "ecd7012b",
   "metadata": {},
   "outputs": [],
   "source": [
    "import pandas as pd\n",
    "import numpy as np"
   ]
  },
  {
   "cell_type": "markdown",
   "id": "27cd0ba8",
   "metadata": {},
   "source": [
    "# #Apply function to every row in a Pandas DataFrame"
   ]
  },
  {
   "cell_type": "code",
   "execution_count": 7,
   "id": "5f6982a5",
   "metadata": {},
   "outputs": [
    {
     "name": "stdout",
     "output_type": "stream",
     "text": [
      "Original DataFrame:\n",
      "    A  B  C\n",
      "0  1  4  7\n",
      "1  2  5  8\n",
      "2  3  6  9\n",
      "\n",
      "After Applying Function: \n",
      "   A  B  C  add\n",
      "0  1  4  7   12\n",
      "1  2  5  8   15\n",
      "2  3  6  9   18\n"
     ]
    }
   ],
   "source": [
    "# Import pandas package\n",
    "import pandas as pd\n",
    "\n",
    "# Function to add\n",
    "def add(a, b, c):\n",
    "\treturn a + b + c\n",
    "\n",
    "def main():\n",
    "\t\n",
    "\t# create a dictionary with\n",
    "\t# three fields each\n",
    "\tdata = {\n",
    "\t\t\t'A':[1, 2, 3],\n",
    "\t\t\t'B':[4, 5, 6],\n",
    "\t\t\t'C':[7, 8, 9] }\n",
    "\t\n",
    "\t# Convert the dictionary into DataFrame\n",
    "\tdf = pd.DataFrame(data)\n",
    "\tprint(\"Original DataFrame:\\n\", df)\n",
    "\t\n",
    "\tdf['add'] = df.apply(lambda row : add(row['A'],\n",
    "\t\t\t\t\trow['B'], row['C']), axis = 1)\n",
    "\n",
    "\tprint('\\nAfter Applying Function: ')\n",
    "\t# printing the new dataframe\n",
    "\tprint(df)\n",
    "\n",
    "if __name__ == '__main__':\n",
    "\tmain()\n"
   ]
  },
  {
   "cell_type": "markdown",
   "id": "1e87e5d3",
   "metadata": {},
   "source": [
    "##lambda row: add(row['A'], row['B'], row['C']): This part defines a lambda function (anonymous function) that takes a single argument row. The lambda function calls another function add() and passes three arguments: the values in columns 'A', 'B', and 'C' of the current row. So, for each row, it's adding the values from columns 'A', 'B', and 'C' using the add() function."
   ]
  },
  {
   "cell_type": "code",
   "execution_count": 8,
   "id": "84224f5a",
   "metadata": {},
   "outputs": [
    {
     "name": "stdout",
     "output_type": "stream",
     "text": [
      "City 1    New York\n",
      "City 2     Chicago\n",
      "City 3     Toronto\n",
      "City 4      Lisbon\n",
      "City 5         Rio\n",
      "dtype: object\n"
     ]
    }
   ],
   "source": [
    "# importing pandas as pd\n",
    "import pandas as pd\n",
    "\n",
    "# Creating the Series\n",
    "sr = pd.Series(['New York', 'Chicago', 'Toronto', 'Lisbon', 'Rio'])\n",
    "\n",
    "# Create the Index\n",
    "index_ = ['City 1', 'City 2', 'City 3', 'City 4', 'City 5']\n",
    "\n",
    "# set the index\n",
    "sr.index = index_\n",
    "\n",
    "# Print the series\n",
    "print(sr)\n"
   ]
  },
  {
   "cell_type": "code",
   "execution_count": 9,
   "id": "02052fcf",
   "metadata": {},
   "outputs": [
    {
     "name": "stdout",
     "output_type": "stream",
     "text": [
      "City 1    New York\n",
      "City 2     Chicago\n",
      "City 3     Toronto\n",
      "City 4      Lisbon\n",
      "City 5    Montreal\n",
      "dtype: object\n"
     ]
    }
   ],
   "source": [
    "# change 'Rio' to 'Montreal'\n",
    "# we have used a lambda function\n",
    "result = sr.apply(lambda x : 'Montreal' if x =='Rio' else x )\n",
    "\n",
    "# Print the result\n",
    "print(result)\n"
   ]
  },
  {
   "cell_type": "code",
   "execution_count": 10,
   "id": "b52d1dc6",
   "metadata": {},
   "outputs": [
    {
     "name": "stdout",
     "output_type": "stream",
     "text": [
      "0    2\n",
      "1    4\n",
      "2    6\n",
      "3    8\n",
      "dtype: int64\n"
     ]
    }
   ],
   "source": [
    "data = pd.Series([1, 2, 3, 4])\n",
    "result = data.apply(lambda x : x * 2)\n",
    "print(result)"
   ]
  },
  {
   "cell_type": "code",
   "execution_count": 15,
   "id": "16a7b888",
   "metadata": {},
   "outputs": [
    {
     "name": "stdout",
     "output_type": "stream",
     "text": [
      "   A   B\n",
      "0  2   4\n",
      "1  4   6\n",
      "2  6   8\n",
      "3  8  10\n"
     ]
    }
   ],
   "source": [
    "data = pd.DataFrame({'A':[1,2,3,4],'B':[2,3,4,5]})\n",
    "result = data.apply(lambda column : column*2)\n",
    "print(result)"
   ]
  },
  {
   "cell_type": "code",
   "execution_count": 16,
   "id": "90314759",
   "metadata": {},
   "outputs": [
    {
     "name": "stdout",
     "output_type": "stream",
     "text": [
      "0    5\n",
      "1    7\n",
      "2    9\n",
      "dtype: int64\n"
     ]
    }
   ],
   "source": [
    "# Example 3: Applying a Function to DataFrame Rows\n",
    "data = pd.DataFrame({'A': [1, 2, 3], 'B': [4, 5, 6] })\n",
    "result = data.apply(lambda row: row.sum(), axis=1)\n",
    "print(result)"
   ]
  }
 ],
 "metadata": {
  "kernelspec": {
   "display_name": "Python 3 (ipykernel)",
   "language": "python",
   "name": "python3"
  },
  "language_info": {
   "codemirror_mode": {
    "name": "ipython",
    "version": 3
   },
   "file_extension": ".py",
   "mimetype": "text/x-python",
   "name": "python",
   "nbconvert_exporter": "python",
   "pygments_lexer": "ipython3",
   "version": "3.9.13"
  }
 },
 "nbformat": 4,
 "nbformat_minor": 5
}
