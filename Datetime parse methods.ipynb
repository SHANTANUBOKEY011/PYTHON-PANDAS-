{
 "cells": [
  {
   "cell_type": "code",
   "execution_count": 2,
   "id": "3454182c",
   "metadata": {},
   "outputs": [],
   "source": [
    "import pandas as pd\n",
    "import numpy as np"
   ]
  },
  {
   "cell_type": "code",
   "execution_count": 3,
   "id": "f61fe897",
   "metadata": {},
   "outputs": [
    {
     "name": "stdout",
     "output_type": "stream",
     "text": [
      "2023-08-16 00:00:00\n"
     ]
    }
   ],
   "source": [
    "date_str = '2023-08-16'\n",
    "parsed_date = pd.to_datetime(date_str)\n",
    "print(parsed_date)"
   ]
  },
  {
   "cell_type": "code",
   "execution_count": 4,
   "id": "1dcf4b55",
   "metadata": {},
   "outputs": [
    {
     "name": "stdout",
     "output_type": "stream",
     "text": [
      "DatetimeIndex(['2023-08-16', '2023-08-17', '2023-08-18'], dtype='datetime64[ns]', freq=None)\n"
     ]
    }
   ],
   "source": [
    "# Parsing a list of datetime strings\n",
    "date_list = ['2023-08-16', '2023-08-17', '2023-08-18']\n",
    "parsed_dates = pd.to_datetime(date_list)\n",
    "print(parsed_dates)\n"
   ]
  },
  {
   "cell_type": "code",
   "execution_count": 6,
   "id": "f5d9e126",
   "metadata": {},
   "outputs": [
    {
     "name": "stdout",
     "output_type": "stream",
     "text": [
      "2023-08-16 00:00:00\n"
     ]
    }
   ],
   "source": [
    "date_str_custom = '16-08-2023'\n",
    "parsed_date_custom = pd.to_datetime(date_str_custom, format='%d-%m-%Y')\n",
    "print(parsed_date_custom)"
   ]
  },
  {
   "cell_type": "code",
   "execution_count": 7,
   "id": "8e1c2db0",
   "metadata": {},
   "outputs": [],
   "source": [
    "date_list = ['2023-08-16', '2023-08-17', '2023-08-18']"
   ]
  },
  {
   "cell_type": "code",
   "execution_count": 12,
   "id": "c312ca86",
   "metadata": {},
   "outputs": [
    {
     "name": "stdout",
     "output_type": "stream",
     "text": [
      "DatetimeIndex(['2023-08-16', '2023-08-17', '2023-08-18'], dtype='datetime64[ns]', freq=None)\n"
     ]
    }
   ],
   "source": [
    "parsed_dates = pd.to_datetime(date_list)\n",
    "print(parsed_dates)\n",
    "df = pd.DataFrame({'values': [10, 20, 30]}, index=parsed_dates)"
   ]
  },
  {
   "cell_type": "code",
   "execution_count": 13,
   "id": "304b077f",
   "metadata": {},
   "outputs": [
    {
     "name": "stdout",
     "output_type": "stream",
     "text": [
      "Int64Index([2023, 2023, 2023], dtype='int64')\n"
     ]
    }
   ],
   "source": [
    "df_series = df['values']  # Selecting the 'values' column as a Series\n",
    "print(df_series.index.year)  # This will work correctly"
   ]
  },
  {
   "cell_type": "code",
   "execution_count": 16,
   "id": "d7230787",
   "metadata": {},
   "outputs": [
    {
     "name": "stdout",
     "output_type": "stream",
     "text": [
      "[datetime.date(2023, 8, 16) datetime.date(2023, 8, 17)\n",
      " datetime.date(2023, 8, 18)]\n"
     ]
    }
   ],
   "source": [
    "# Extracting components from parsed datetime\n",
    "print(df_series.index.date)\n"
   ]
  },
  {
   "cell_type": "code",
   "execution_count": 17,
   "id": "f90133d3",
   "metadata": {},
   "outputs": [
    {
     "ename": "AttributeError",
     "evalue": "'DatetimeIndex' object has no attribute 'dt'",
     "output_type": "error",
     "traceback": [
      "\u001b[1;31m---------------------------------------------------------------------------\u001b[0m",
      "\u001b[1;31mAttributeError\u001b[0m                            Traceback (most recent call last)",
      "\u001b[1;32m~\\AppData\\Local\\Temp\\ipykernel_23428\\3459046519.py\u001b[0m in \u001b[0;36m<module>\u001b[1;34m\u001b[0m\n\u001b[0;32m      6\u001b[0m \u001b[1;33m\u001b[0m\u001b[0m\n\u001b[0;32m      7\u001b[0m \u001b[1;31m# Extracting components from parsed datetime\u001b[0m\u001b[1;33m\u001b[0m\u001b[1;33m\u001b[0m\u001b[0m\n\u001b[1;32m----> 8\u001b[1;33m \u001b[0mprint\u001b[0m\u001b[1;33m(\u001b[0m\u001b[0mparsed_dates\u001b[0m\u001b[1;33m.\u001b[0m\u001b[0mdt\u001b[0m\u001b[1;33m.\u001b[0m\u001b[0myear\u001b[0m\u001b[1;33m)\u001b[0m\u001b[1;33m\u001b[0m\u001b[1;33m\u001b[0m\u001b[0m\n\u001b[0m\u001b[0;32m      9\u001b[0m \u001b[0mprint\u001b[0m\u001b[1;33m(\u001b[0m\u001b[0mparsed_dates\u001b[0m\u001b[1;33m.\u001b[0m\u001b[0mdt\u001b[0m\u001b[1;33m.\u001b[0m\u001b[0mmonth\u001b[0m\u001b[1;33m)\u001b[0m\u001b[1;33m\u001b[0m\u001b[1;33m\u001b[0m\u001b[0m\n\u001b[0;32m     10\u001b[0m \u001b[0mprint\u001b[0m\u001b[1;33m(\u001b[0m\u001b[0mparsed_dates\u001b[0m\u001b[1;33m.\u001b[0m\u001b[0mdt\u001b[0m\u001b[1;33m.\u001b[0m\u001b[0mday\u001b[0m\u001b[1;33m)\u001b[0m\u001b[1;33m\u001b[0m\u001b[1;33m\u001b[0m\u001b[0m\n",
      "\u001b[1;31mAttributeError\u001b[0m: 'DatetimeIndex' object has no attribute 'dt'"
     ]
    }
   ],
   "source": [
    "#import pandas as pd\n",
    "\n",
    "# Example list of datetime strings\n",
    "date_list = ['2023-08-16', '2023-08-17', '2023-08-18']\n",
    "parsed_dates = pd.to_datetime(date_list)\n",
    "\n",
    "# Extracting components from parsed datetime\n",
    "print(parsed_dates.dt.year)\n",
    "print(parsed_dates.dt.month)\n",
    "print(parsed_dates.dt.day)\n",
    "\n",
    "# Getting weekday and day name\n",
    "print(parsed_dates.dt.weekday)\n",
    "print(parsed_dates.dt.day_name())\n",
    "\n",
    "# Formatting datetime as strings\n",
    "print(parsed_dates.dt.strftime('%Y/%m/%d'))\n",
    "\n",
    "# Converting to periods (e.g., monthly periods)\n",
    "print(parsed_dates.dt.to_period('M'))\n"
   ]
  },
  {
   "cell_type": "code",
   "execution_count": null,
   "id": "cf23615f",
   "metadata": {},
   "outputs": [],
   "source": []
  },
  {
   "cell_type": "code",
   "execution_count": null,
   "id": "a92c40b9",
   "metadata": {},
   "outputs": [],
   "source": []
  }
 ],
 "metadata": {
  "kernelspec": {
   "display_name": "Python 3 (ipykernel)",
   "language": "python",
   "name": "python3"
  },
  "language_info": {
   "codemirror_mode": {
    "name": "ipython",
    "version": 3
   },
   "file_extension": ".py",
   "mimetype": "text/x-python",
   "name": "python",
   "nbconvert_exporter": "python",
   "pygments_lexer": "ipython3",
   "version": "3.9.13"
  }
 },
 "nbformat": 4,
 "nbformat_minor": 5
}
